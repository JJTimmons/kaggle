{
 "cells": [
  {
   "cell_type": "code",
   "execution_count": 2,
   "metadata": {},
   "outputs": [
    {
     "name": "stderr",
     "output_type": "stream",
     "text": [
      "Using TensorFlow backend.\n"
     ]
    },
    {
     "data": {
      "text/html": [
       "<div>\n",
       "<style scoped>\n",
       "    .dataframe tbody tr th:only-of-type {\n",
       "        vertical-align: middle;\n",
       "    }\n",
       "\n",
       "    .dataframe tbody tr th {\n",
       "        vertical-align: top;\n",
       "    }\n",
       "\n",
       "    .dataframe thead th {\n",
       "        text-align: right;\n",
       "    }\n",
       "</style>\n",
       "<table border=\"1\" class=\"dataframe\">\n",
       "  <thead>\n",
       "    <tr style=\"text-align: right;\">\n",
       "      <th></th>\n",
       "      <th>seq</th>\n",
       "      <th>tm</th>\n",
       "      <th>hairpin</th>\n",
       "    </tr>\n",
       "  </thead>\n",
       "  <tbody>\n",
       "    <tr>\n",
       "      <th>0</th>\n",
       "      <td>TCAATTCGTG</td>\n",
       "      <td>20.045803</td>\n",
       "      <td>0.000000</td>\n",
       "    </tr>\n",
       "    <tr>\n",
       "      <th>1</th>\n",
       "      <td>GCCCAGTACCTTACCCTGGTCAAC</td>\n",
       "      <td>58.695218</td>\n",
       "      <td>-213.189493</td>\n",
       "    </tr>\n",
       "    <tr>\n",
       "      <th>2</th>\n",
       "      <td>TGGCAAGTTTCGCCAGTGCAGCCTAT</td>\n",
       "      <td>63.001324</td>\n",
       "      <td>-1004.913493</td>\n",
       "    </tr>\n",
       "    <tr>\n",
       "      <th>3</th>\n",
       "      <td>GGTACTTCATCTATAAGTACATACTTCAA</td>\n",
       "      <td>51.004875</td>\n",
       "      <td>-1360.196489</td>\n",
       "    </tr>\n",
       "    <tr>\n",
       "      <th>4</th>\n",
       "      <td>AACGGTCAGATG</td>\n",
       "      <td>32.373477</td>\n",
       "      <td>0.000000</td>\n",
       "    </tr>\n",
       "  </tbody>\n",
       "</table>\n",
       "</div>"
      ],
      "text/plain": [
       "                             seq         tm      hairpin\n",
       "0                     TCAATTCGTG  20.045803     0.000000\n",
       "1       GCCCAGTACCTTACCCTGGTCAAC  58.695218  -213.189493\n",
       "2     TGGCAAGTTTCGCCAGTGCAGCCTAT  63.001324 -1004.913493\n",
       "3  GGTACTTCATCTATAAGTACATACTTCAA  51.004875 -1360.196489\n",
       "4                   AACGGTCAGATG  32.373477     0.000000"
      ]
     },
     "execution_count": 2,
     "metadata": {},
     "output_type": "execute_result"
    }
   ],
   "source": [
    "import pandas\n",
    "import keras\n",
    "\n",
    "primers = pandas.read_csv(\"primers.csv\")\n",
    "primers.head()"
   ]
  },
  {
   "cell_type": "code",
   "execution_count": 4,
   "metadata": {},
   "outputs": [],
   "source": [
    "import numpy\n",
    "\n",
    "# one hot encode the primer sequences\n",
    "bp_one_hot = {\n",
    "    \"A\": [1, 0, 0, 0],\n",
    "    \"T\": [0, 1, 0, 0],\n",
    "    \"G\": [0, 0, 1, 0],\n",
    "    \"C\": [0, 0, 0, 1],\n",
    "}\n",
    "\n",
    "primer_seqs = primers.seq.tolist()\n",
    "max_primer_len = 50\n",
    "seqs = numpy.zeros((len(primer_seqs), max_primer_len, 4), dtype=numpy.int8)\n",
    "\n",
    "for i, seq in enumerate(primer_seqs):\n",
    "    for j, bp in enumerate(seq):\n",
    "        seqs[i][j] = bp_one_hot[bp]"
   ]
  },
  {
   "cell_type": "code",
   "execution_count": 5,
   "metadata": {},
   "outputs": [],
   "source": [
    "from sklearn import preprocessing\n",
    "from sklearn.model_selection import train_test_split\n",
    "\n",
    "y = primers.tm\n",
    "X_train, X_test, y_train, y_test = train_test_split(seqs, y, test_size=0.1)"
   ]
  },
  {
   "cell_type": "code",
   "execution_count": null,
   "metadata": {
    "scrolled": false
   },
   "outputs": [
    {
     "name": "stdout",
     "output_type": "stream",
     "text": [
      "WARNING:tensorflow:From /Library/Frameworks/Python.framework/Versions/3.7/lib/python3.7/site-packages/tensorflow/python/framework/op_def_library.py:263: colocate_with (from tensorflow.python.framework.ops) is deprecated and will be removed in a future version.\n",
      "Instructions for updating:\n",
      "Colocations handled automatically by placer.\n",
      "_________________________________________________________________\n",
      "Layer (type)                 Output Shape              Param #   \n",
      "=================================================================\n",
      "seq_input (InputLayer)       (None, 50, 4)             0         \n",
      "_________________________________________________________________\n",
      "dense_1 (Dense)              (None, 50, 80)            400       \n",
      "_________________________________________________________________\n",
      "dense_2 (Dense)              (None, 50, 80)            6480      \n",
      "_________________________________________________________________\n",
      "dense_3 (Dense)              (None, 50, 80)            6480      \n",
      "_________________________________________________________________\n",
      "flatten_1 (Flatten)          (None, 4000)              0         \n",
      "_________________________________________________________________\n",
      "seq_output (Dense)           (None, 1)                 4001      \n",
      "=================================================================\n",
      "Total params: 17,361\n",
      "Trainable params: 17,361\n",
      "Non-trainable params: 0\n",
      "_________________________________________________________________\n",
      "None\n",
      "WARNING:tensorflow:From /Library/Frameworks/Python.framework/Versions/3.7/lib/python3.7/site-packages/tensorflow/python/ops/math_ops.py:3066: to_int32 (from tensorflow.python.ops.math_ops) is deprecated and will be removed in a future version.\n",
      "Instructions for updating:\n",
      "Use tf.cast instead.\n",
      "Train on 90000 samples, validate on 10000 samples\n",
      "Epoch 1/10\n",
      "90000/90000 [==============================] - 7s 81us/step - loss: 19.2364 - val_loss: 18.3094\n",
      "Epoch 2/10\n",
      "90000/90000 [==============================] - 7s 77us/step - loss: 6.3547 - val_loss: 7.0076\n",
      "Epoch 3/10\n",
      "11712/90000 [==>...........................] - ETA: 6s - loss: 6.0797"
     ]
    }
   ],
   "source": [
    "import numpy\n",
    "from keras.models import Model\n",
    "from keras.layers import LSTM, Dense, Dropout, Masking, Embedding, Flatten, Add, Input, concatenate\n",
    "from keras.wrappers.scikit_learn import KerasRegressor\n",
    "from sklearn import pipeline\n",
    "from sklearn import preprocessing\n",
    "\n",
    "seq_in = Input(shape=(max_primer_len, 4), name='seq_input')\n",
    "seq_model = Dense(80, activation='relu')(seq_in)\n",
    "seq_model = Dense(80, activation='relu')(seq_model)\n",
    "seq_model = Dense(80, activation='relu')(seq_model)\n",
    "seq_model = Flatten(input_shape=(max_primer_len, 4))(seq_model)\n",
    "seq_out = Dense(1, activation=\"linear\", name='seq_output')(seq_model)\n",
    "\n",
    "model = Model(inputs=seq_in, outputs=seq_out)\n",
    "model.compile(loss='mse', optimizer='rmsprop')\n",
    "\n",
    "print(model.summary())\n",
    "\n",
    "model.fit(x=X_train, y=y_train, validation_data=(X_test, y_test), epochs=10)\n",
    "\n",
    "# test the output\n",
    "diffs = []\n",
    "ests = model.predict(X_test)\n",
    "for est, actual in zip(ests, y_test):\n",
    "    diffs.append(abs(est - actual))\n",
    "print(\"standard deviation: \", numpy.std(diffs))\n",
    "print(\"median difference: \", numpy.median(diffs))\n"
   ]
  },
  {
   "cell_type": "code",
   "execution_count": 135,
   "metadata": {},
   "outputs": [
    {
     "name": "stdout",
     "output_type": "stream",
     "text": [
      "-1.0\n",
      "0.031126802787184715 -1609.8139912489423\n"
     ]
    }
   ],
   "source": [
    "import primer3\n",
    "\n",
    "seq = \"ACATGCCGCAACGATGCTGCTCAA\"\n",
    "\n",
    "test_seq = numpy.array([[bp_one_hot[bp] for bp in seq] + [[0, 0, 0, 0]] * (max_primer_len - len(seq))])\n",
    "test_tm = primer3.calcTm(seq)\n",
    "\n",
    "print(model.predict([test_seq, numpy.array([test_tm])])[0][0] * max_y, primer3.calcHairpin(seq).dg)"
   ]
  },
  {
   "cell_type": "code",
   "execution_count": null,
   "metadata": {},
   "outputs": [],
   "source": []
  }
 ],
 "metadata": {
  "kernelspec": {
   "display_name": "Python 3",
   "language": "python",
   "name": "python3"
  },
  "language_info": {
   "codemirror_mode": {
    "name": "ipython",
    "version": 3
   },
   "file_extension": ".py",
   "mimetype": "text/x-python",
   "name": "python",
   "nbconvert_exporter": "python",
   "pygments_lexer": "ipython3",
   "version": "3.7.0"
  }
 },
 "nbformat": 4,
 "nbformat_minor": 2
}
