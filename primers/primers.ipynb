{
 "cells": [
  {
   "cell_type": "code",
   "execution_count": 18,
   "metadata": {},
   "outputs": [
    {
     "data": {
      "text/html": [
       "<div>\n",
       "<style scoped>\n",
       "    .dataframe tbody tr th:only-of-type {\n",
       "        vertical-align: middle;\n",
       "    }\n",
       "\n",
       "    .dataframe tbody tr th {\n",
       "        vertical-align: top;\n",
       "    }\n",
       "\n",
       "    .dataframe thead th {\n",
       "        text-align: right;\n",
       "    }\n",
       "</style>\n",
       "<table border=\"1\" class=\"dataframe\">\n",
       "  <thead>\n",
       "    <tr style=\"text-align: right;\">\n",
       "      <th></th>\n",
       "      <th>seq</th>\n",
       "      <th>tm</th>\n",
       "      <th>hairpin</th>\n",
       "    </tr>\n",
       "  </thead>\n",
       "  <tbody>\n",
       "    <tr>\n",
       "      <th>0</th>\n",
       "      <td>CAGCTTACGGG</td>\n",
       "      <td>31.818141</td>\n",
       "      <td>0.000000</td>\n",
       "    </tr>\n",
       "    <tr>\n",
       "      <th>1</th>\n",
       "      <td>TCAAGACGAGGTAACCACGTCG</td>\n",
       "      <td>56.489715</td>\n",
       "      <td>-2181.812493</td>\n",
       "    </tr>\n",
       "    <tr>\n",
       "      <th>2</th>\n",
       "      <td>ACTTCGGACGCCCGTTTGC</td>\n",
       "      <td>58.110465</td>\n",
       "      <td>-1148.900996</td>\n",
       "    </tr>\n",
       "    <tr>\n",
       "      <th>3</th>\n",
       "      <td>TTTTGTTCGTGATGGGGGAAGCGCTCCT</td>\n",
       "      <td>64.080574</td>\n",
       "      <td>-318.446996</td>\n",
       "    </tr>\n",
       "    <tr>\n",
       "      <th>4</th>\n",
       "      <td>GTCGCCTTTTC</td>\n",
       "      <td>30.062109</td>\n",
       "      <td>0.000000</td>\n",
       "    </tr>\n",
       "  </tbody>\n",
       "</table>\n",
       "</div>"
      ],
      "text/plain": [
       "                            seq         tm      hairpin\n",
       "0                   CAGCTTACGGG  31.818141     0.000000\n",
       "1        TCAAGACGAGGTAACCACGTCG  56.489715 -2181.812493\n",
       "2           ACTTCGGACGCCCGTTTGC  58.110465 -1148.900996\n",
       "3  TTTTGTTCGTGATGGGGGAAGCGCTCCT  64.080574  -318.446996\n",
       "4                   GTCGCCTTTTC  30.062109     0.000000"
      ]
     },
     "execution_count": 18,
     "metadata": {},
     "output_type": "execute_result"
    }
   ],
   "source": [
    "import pandas\n",
    "import keras\n",
    "\n",
    "primers = pandas.read_csv(\"primers.csv\")\n",
    "primers.head()"
   ]
  },
  {
   "cell_type": "code",
   "execution_count": 19,
   "metadata": {},
   "outputs": [],
   "source": [
    "import numpy\n",
    "\n",
    "# one hot encode the primer sequences\n",
    "bp_one_hot = {\n",
    "    \"A\": [1, 0, 0, 0],\n",
    "    \"T\": [0, 1, 0, 0],\n",
    "    \"G\": [0, 0, 1, 0],\n",
    "    \"C\": [0, 0, 0, 1],\n",
    "}\n",
    "\n",
    "primer_seqs = primers.seq.tolist()\n",
    "max_primer_len = 50\n",
    "seqs = numpy.zeros((len(primer_seqs), max_primer_len, 4), dtype=numpy.int8)\n",
    "\n",
    "for i, seq in enumerate(primer_seqs):\n",
    "    for j, bp in enumerate(seq):\n",
    "        seqs[i][j] = bp_one_hot[bp]"
   ]
  },
  {
   "cell_type": "code",
   "execution_count": 20,
   "metadata": {},
   "outputs": [],
   "source": [
    "from sklearn import preprocessing\n",
    "from sklearn.model_selection import train_test_split\n",
    "\n",
    "y = primers.hairpin\n",
    "X_train, X_test, y_train, y_test = train_test_split(seqs, y, test_size=0.1)"
   ]
  },
  {
   "cell_type": "code",
   "execution_count": 66,
   "metadata": {
    "scrolled": false
   },
   "outputs": [
    {
     "name": "stdout",
     "output_type": "stream",
     "text": [
      "Train on 180000 samples, validate on 20000 samples\n",
      "Epoch 1/5\n",
      "180000/180000 [==============================] - 58s 321us/step - loss: 400786.0871 - val_loss: 374147.4698\n",
      "Epoch 2/5\n",
      "180000/180000 [==============================] - 58s 321us/step - loss: 361542.2992 - val_loss: 350308.6356\n",
      "Epoch 3/5\n",
      "180000/180000 [==============================] - 56s 310us/step - loss: 340703.3414 - val_loss: 333409.1252\n",
      "Epoch 4/5\n",
      "180000/180000 [==============================] - 63s 348us/step - loss: 320228.7510 - val_loss: 312001.9065\n",
      "Epoch 5/5\n",
      "180000/180000 [==============================] - 57s 318us/step - loss: 302098.3546 - val_loss: 292960.5795\n",
      "standard deviation:  454.5776\n",
      "median difference:  92.48992\n"
     ]
    }
   ],
   "source": [
    "import numpy\n",
    "from keras.models import Model\n",
    "from keras.layers import LSTM, Dense, Dropout, Masking, Embedding, Flatten, Add, Input, Conv1D\n",
    "from keras.wrappers.scikit_learn import KerasRegressor\n",
    "\n",
    "n = 200000\n",
    "\n",
    "seq_in = Input(shape=(max_primer_len, 4), name='seq_input')\n",
    "seq_model = Conv1D(256, 16, activation='relu')(seq_in)\n",
    "seq_model = Dropout(0.1)(seq_model)\n",
    "seq_model = Dense(128, activation='relu')(seq_model)\n",
    "seq_model = Dropout(0.1)(seq_model)\n",
    "seq_model = Dense(80, activation='relu')(seq_model)\n",
    "seq_model = Flatten(input_shape=(max_primer_len, 4))(seq_model)\n",
    "seq_out = Dense(1, activation=\"linear\", name='seq_output')(seq_model)\n",
    "\n",
    "model = Model(inputs=seq_in, outputs=seq_out)\n",
    "model.compile(loss='mse', optimizer='rmsprop')\n",
    "\n",
    "model.fit(x=X_train[:n], y=y_train[:n], validation_data=(X_test, y_test), epochs=5, verbose=1)\n",
    "\n",
    "# test the output\n",
    "diffs = []\n",
    "ests = model.predict(X_test)\n",
    "for est, actual in zip(ests, y_test):\n",
    "    diffs.append(abs(est - actual))\n",
    "print(\"standard deviation: \", numpy.std(diffs))\n",
    "print(\"median difference: \", numpy.median(diffs))\n"
   ]
  },
  {
   "cell_type": "code",
   "execution_count": 68,
   "metadata": {},
   "outputs": [
    {
     "name": "stdout",
     "output_type": "stream",
     "text": [
      "-559.0588 -1281.9874934343788\n"
     ]
    }
   ],
   "source": [
    "import primer3\n",
    "\n",
    "seq = \"TGAGGGGCTGGGGGCGCTTTG\"\n",
    "\n",
    "test_seq = numpy.array([[bp_one_hot[bp] for bp in seq] + [[0, 0, 0, 0]] * (max_primer_len - len(seq))])\n",
    "test_tm = primer3.calcHairpin(seq).dg\n",
    "\n",
    "print(model.predict([test_seq])[0][0], test_tm)"
   ]
  },
  {
   "cell_type": "code",
   "execution_count": null,
   "metadata": {},
   "outputs": [],
   "source": []
  }
 ],
 "metadata": {
  "kernelspec": {
   "display_name": "Python 3",
   "language": "python",
   "name": "python3"
  },
  "language_info": {
   "codemirror_mode": {
    "name": "ipython",
    "version": 3
   },
   "file_extension": ".py",
   "mimetype": "text/x-python",
   "name": "python",
   "nbconvert_exporter": "python",
   "pygments_lexer": "ipython3",
   "version": "3.7.0"
  }
 },
 "nbformat": 4,
 "nbformat_minor": 2
}
